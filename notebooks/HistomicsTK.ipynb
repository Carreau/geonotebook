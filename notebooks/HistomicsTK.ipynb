{
 "cells": [
  {
   "cell_type": "code",
   "execution_count": null,
   "metadata": {},
   "outputs": [],
   "source": [
    "%matplotlib inline\n",
    "from matplotlib import pylab as plt\n",
    "from geonotebook.wrappers import RasterData, VectorData"
   ]
  },
  {
   "cell_type": "code",
   "execution_count": null,
   "metadata": {},
   "outputs": [],
   "source": [
    "!mkdir -p /notebooks/data\n",
    "!curl https://data.kitware.com/api/v1/file/5ab9567a8d777f068579060c/download > /notebooks/data/tcga_geo.tiff"
   ]
  },
  {
   "cell_type": "code",
   "execution_count": null,
   "metadata": {},
   "outputs": [],
   "source": [
    "image = RasterData('/notebooks/data/tcga_geo.tiff')\n",
    "M.add_layer(image)"
   ]
  },
  {
   "cell_type": "code",
   "execution_count": null,
   "metadata": {},
   "outputs": [],
   "source": [
    "if not M.layers.annotation.rectangles:\n",
    "    raise Exception('Please, select a region first using rectangle icon in the toolbar')\n",
    "region = M.layers.annotation.rectangles[-1]\n",
    "image_data = region.data.next()[1]"
   ]
  },
  {
   "cell_type": "code",
   "execution_count": null,
   "metadata": {},
   "outputs": [],
   "source": [
    "plt.imshow(image_data)"
   ]
  },
  {
   "cell_type": "code",
   "execution_count": null,
   "metadata": {},
   "outputs": [],
   "source": [
    "from histomicstk_analyses.NucleiDetection import NucleiDetection\n",
    "nuclei = NucleiDetection.detect_nuclei(image_data)\n",
    "nuclei[0]"
   ]
  },
  {
   "cell_type": "code",
   "execution_count": null,
   "metadata": {},
   "outputs": [],
   "source": [
    "import json\n",
    "from histomicstk_analyses.geonotebook import convert_annotations\n",
    "with open('/notebooks/data/nuclei.json', 'w') as f:\n",
    "    f.write(json.dumps(convert_annotations(nuclei, region)))"
   ]
  },
  {
   "cell_type": "code",
   "execution_count": null,
   "metadata": {},
   "outputs": [],
   "source": [
    "annotations = VectorData('/notebooks/data/nuclei.json')\n",
    "M.add_layer(annotations)"
   ]
  },
  {
   "cell_type": "code",
   "execution_count": null,
   "metadata": {},
   "outputs": [],
   "source": [
    "# This is the way to remove drawn region, but it is buggy now, so it might not work.\n",
    "M.layers.annotation.clear_annotations()"
   ]
  }
 ],
 "metadata": {
  "kernelspec": {
   "display_name": "Geonotebook (Python 2)",
   "language": "python",
   "name": "geonotebook2"
  },
  "language_info": {
   "codemirror_mode": {
    "name": "ipython",
    "version": 2
   },
   "file_extension": ".py",
   "mimetype": "text/x-python",
   "name": "python",
   "nbconvert_exporter": "python",
   "pygments_lexer": "ipython2",
   "version": "2.7.12"
  }
 },
 "nbformat": 4,
 "nbformat_minor": 2
}
